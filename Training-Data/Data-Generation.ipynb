{
 "cells": [
  {
   "cell_type": "code",
   "execution_count": 1,
   "metadata": {},
   "outputs": [],
   "source": [
    "import cv2"
   ]
  },
  {
   "cell_type": "code",
   "execution_count": 1,
   "metadata": {},
   "outputs": [],
   "source": [
    "def add_breach(im, x, y, size):\n",
    "    assert x-size/2 >= 0 and x+size/2 <= im[0].size and y-size/2 >= 0 and y+size/2 <= im[1].size\n",
    "    raze = cv2.imread(\"Characters/Breach.png\")[:, :, ::-1]\n",
    "    raze = cv2.resize(raze, (size, size))\n",
    "    im[x-size//2 : x+size//2, y-size//2 : y+size//2, :] = raze\n",
    "    return im\n",
    "\n",
    "def add_brimstone(im, x, y, size):\n",
    "    assert x-size/2 >= 0 and x+size/2 <= im[0].size and y-size/2 >= 0 and y+size/2 <= im[1].size\n",
    "    raze = cv2.imread(\"Characters/Brimstone.png\")[:, :, ::-1]\n",
    "    raze = cv2.resize(raze, (size, size))\n",
    "    im[x-size//2 : x+size//2, y-size//2 : y+size//2, :] = raze\n",
    "    return im\n",
    "\n",
    "def add_cypher(im, x, y, size):\n",
    "    assert x-size/2 >= 0 and x+size/2 <= im[0].size and y-size/2 >= 0 and y+size/2 <= im[1].size\n",
    "    raze = cv2.imread(\"Characters/Cypher.png\")[:, :, ::-1]\n",
    "    raze = cv2.resize(raze, (size, size))\n",
    "    im[x-size//2 : x+size//2, y-size//2 : y+size//2, :] = raze\n",
    "    return im\n",
    "\n",
    "def add_jett(im, x, y, size):\n",
    "    assert x-size/2 >= 0 and x+size/2 <= im[0].size and y-size/2 >= 0 and y+size/2 <= im[1].size\n",
    "    raze = cv2.imread(\"Characters/Jett.png\")[:, :, ::-1]\n",
    "    raze = cv2.resize(raze, (size, size))\n",
    "    im[x-size//2 : x+size//2, y-size//2 : y+size//2, :] = raze\n",
    "    return im\n",
    "\n",
    "def add_omen(im, x, y, size):\n",
    "    assert x-size/2 >= 0 and x+size/2 <= im[0].size and y-size/2 >= 0 and y+size/2 <= im[1].size\n",
    "    raze = cv2.imread(\"Characters/Omen.png\")[:, :, ::-1]\n",
    "    raze = cv2.resize(raze, (size, size))\n",
    "    im[x-size//2 : x+size//2, y-size//2 : y+size//2, :] = raze\n",
    "    return im\n",
    "\n",
    "def add_phoenix(im, x, y, size):\n",
    "    assert x-size/2 >= 0 and x+size/2 <= im[0].size and y-size/2 >= 0 and y+size/2 <= im[1].size\n",
    "    raze = cv2.imread(\"Characters/Phoenix.png\")[:, :, ::-1]\n",
    "    raze = cv2.resize(raze, (size, size))\n",
    "    im[x-size//2 : x+size//2, y-size//2 : y+size//2, :] = raze\n",
    "    return im\n",
    "\n",
    "def add_raze(im, x, y, size):\n",
    "    assert x-size/2 >= 0 and x+size/2 <= im[0].size and y-size/2 >= 0 and y+size/2 <= im[1].size\n",
    "    raze = cv2.imread(\"Characters/Raze.png\")[:, :, ::-1]\n",
    "    raze = cv2.resize(raze, (size, size))\n",
    "    im[x-size//2 : x+size//2, y-size//2 : y+size//2, :] = raze\n",
    "    return im\n",
    "\n",
    "def add_reyna(im, x, y, size):\n",
    "    assert x-size/2 >= 0 and x+size/2 <= im[0].size and y-size/2 >= 0 and y+size/2 <= im[1].size\n",
    "    raze = cv2.imread(\"Characters/Reyna.png\")[:, :, ::-1]\n",
    "    raze = cv2.resize(raze, (size, size))\n",
    "    im[x-size//2 : x+size//2, y-size//2 : y+size//2, :] = raze\n",
    "    return im\n",
    "\n",
    "def add_sage(im, x, y, size):\n",
    "    assert x-size/2 >= 0 and x+size/2 <= im[0].size and y-size/2 >= 0 and y+size/2 <= im[1].size\n",
    "    raze = cv2.imread(\"Characters/Sage.png\")[:, :, ::-1]\n",
    "    raze = cv2.resize(raze, (size, size))\n",
    "    im[x-size//2 : x+size//2, y-size//2 : y+size//2, :] = raze\n",
    "    return im\n",
    "\n",
    "def add_sova(im, x, y, size):\n",
    "    assert x-size/2 >= 0 and x+size/2 <= im[0].size and y-size/2 >= 0 and y+size/2 <= im[1].size\n",
    "    raze = cv2.imread(\"Characters/Sova.png\")[:, :, ::-1]\n",
    "    raze = cv2.resize(raze, (size, size))\n",
    "    im[x-size//2 : x+size//2, y-size//2 : y+size//2, :] = raze\n",
    "    return im\n",
    "\n",
    "def add_viper(im, x, y, size):\n",
    "    assert x-size/2 >= 0 and x+size/2 <= im[0].size and y-size/2 >= 0 and y+size/2 <= im[1].size\n",
    "    raze = cv2.imread(\"Characters/Viper.png\")[:, :, ::-1]\n",
    "    raze = cv2.resize(raze, (size, size))\n",
    "    im[x-size//2 : x+size//2, y-size//2 : y+size//2, :] = raze\n",
    "    return im"
   ]
  },
  {
   "cell_type": "code",
   "execution_count": 3,
   "metadata": {},
   "outputs": [],
   "source": [
    "adds = [add_breach, add_brimstone, add_cypher, add_jett, add_omen, add_phoenix, add_raze, add_reyna, add_sage, add_sova, add_viper]"
   ]
  }
 ],
 "metadata": {
  "kernelspec": {
   "display_name": "Python 3",
   "language": "python",
   "name": "python3"
  },
  "language_info": {
   "codemirror_mode": {
    "name": "ipython",
    "version": 3
   },
   "file_extension": ".py",
   "mimetype": "text/x-python",
   "name": "python",
   "nbconvert_exporter": "python",
   "pygments_lexer": "ipython3",
   "version": "3.7.4"
  }
 },
 "nbformat": 4,
 "nbformat_minor": 2
}
