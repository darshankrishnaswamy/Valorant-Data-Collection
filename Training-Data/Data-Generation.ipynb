{
 "cells": [
  {
   "cell_type": "code",
   "execution_count": 1,
   "metadata": {},
   "outputs": [],
   "source": [
    "from pathlib import Path\n",
    "\n",
    "import numpy as np\n",
    "import matplotlib.pyplot as plt\n",
    "from matplotlib.patches import Rectangle\n",
    "%matplotlib inline\n",
    "\n",
    "import torch\n",
    "from torch import nn\n",
    "import torch.nn.functional as F\n",
    "import numba\n",
    "import cv2 \n",
    "import random\n",
    "\n",
    "\n",
    "from detection_utils.boxes import non_max_suppression\n",
    "from detection_utils.metrics import compute_recall, compute_precision\n",
    "from detection_utils.pytorch import softmax_focal_loss"
   ]
  },
  {
   "cell_type": "code",
   "execution_count": 2,
   "metadata": {},
   "outputs": [],
   "source": [
    "@numba.njit\n",
    "def box_overlaps(\n",
    "        predicted,\n",
    "        truth,\n",
    "        eps = 1e-12,\n",
    "):\n",
    "    N = predicted.shape[0]\n",
    "    K = truth.shape[0]\n",
    "    ious = np.zeros((N, K), dtype=np.float32)\n",
    "    print(predicted.shape, truth.shape)  # I added this\n",
    "    for k in range(K):\n",
    "        truth_area = (truth[k, 2] - truth[k, 0]) * (truth[k, 3] - truth[k, 1])\n",
    "        for n in range(N):\n",
    "            width_overlap = min(predicted[n, 2], truth[k, 2]) - max(predicted[n, 0], truth[k, 0])\n",
    "            if width_overlap > 0:\n",
    "                height_overlap = min(predicted[n, 3], truth[k, 3]) - max(predicted[n, 1], truth[k, 1])\n",
    "                if height_overlap > 0:\n",
    "                    overlap_area = width_overlap * height_overlap\n",
    "                    box_area = (predicted[n, 2] - predicted[n, 0]) * (predicted[n, 3] - predicted[n, 1])\n",
    "                    union = box_area + truth_area - overlap_area\n",
    "                    ious[n, k] = overlap_area / (union + eps)\n",
    "    return ious\n",
    "\n",
    "def generate_targets(\n",
    "        anchor_boxes,\n",
    "        truth_boxes,\n",
    "        labels,\n",
    "        pos_thresh= 0.3,\n",
    "        neg_thresh= 0.2,\n",
    "        eps = 1e-12,\n",
    "):\n",
    "    if truth_boxes.size == 0:\n",
    "        targets_reg = np.zeros_like(anchor_boxes, dtype=np.float32)\n",
    "        targets_cls = np.zeros(anchor_boxes.shape[0], dtype=np.int64)\n",
    "        return targets_cls, targets_reg\n",
    "    ious = box_overlaps(anchor_boxes, truth_boxes)  # NxK\n",
    "    max_ious = ious.max(axis=1)                     # N IoUs\n",
    "    max_idxs = ious.argmax(axis=1)                  # N indices\n",
    "    target_boxes = truth_boxes[max_idxs]\n",
    "    target_centers = (target_boxes[:, :2] + target_boxes[:, 2:]) / 2\n",
    "    anchor_centers = (anchor_boxes[:, :2] + anchor_boxes[:, 2:]) / 2\n",
    "    target_wh = target_boxes[:, 2:] - target_boxes[:, :2]\n",
    "    anchor_wh = anchor_boxes[:, 2:] - anchor_boxes[:, :2]\n",
    "    xy = (target_centers - anchor_centers) / anchor_wh\n",
    "    wh = np.log(target_wh / (anchor_wh + eps) + eps)\n",
    "    targets_reg = np.hstack([xy, wh])\n",
    "    targets_cls = labels[max_idxs]\n",
    "    targets_cls[max_ious < pos_thresh] = -1\n",
    "    targets_cls[max_ious < neg_thresh] = 0\n",
    "    targets_cls = targets_cls.reshape(-1).astype(np.int32)\n",
    "    targets_reg = targets_reg.reshape(-1, 4).astype(np.float32)\n",
    "    return targets_cls, targets_reg"
   ]
  },
  {
   "cell_type": "code",
   "execution_count": 3,
   "metadata": {},
   "outputs": [],
   "source": [
    "def add_character(im, x, y, size, char):\n",
    "    assert x-size/2 >= 0 and x+size/2 <= im[0].size and y-size/2 >= 0 and y+size/2 <= im[1].size\n",
    "    raze = cv2.imread(\"Characters/\" + char + \".png\")\n",
    "    raze = cv2.resize(raze, (size, size))\n",
    "    non_zero = raze > np.array([0, 0, 0])\n",
    "    new_im = im[x-size//2 : x+size//2, y-size//2 : y+size//2]\n",
    "    new_im[non_zero] = raze[non_zero]\n",
    "    im[x-size//2 : x+size//2, y-size//2 : y+size//2, :] = new_im\n",
    "    return im"
   ]
  },
  {
   "cell_type": "code",
   "execution_count": 4,
   "metadata": {},
   "outputs": [],
   "source": [
    "adds = np.array([\"Breach\", \"Brimstone\", \"Cypher\", \"Jett\", \"Omen\", \"Phoenix\", \"Raze\", \"Reyna\", \"Sage\", \"Sova\", \"Viper\"])"
   ]
  },
  {
   "cell_type": "code",
   "execution_count": 5,
   "metadata": {},
   "outputs": [
    {
     "name": "stdout",
     "output_type": "stream",
     "text": [
      "(100, 100, 3)\n"
     ]
    }
   ],
   "source": [
    "raze = cv2.imread(\"Characters/\" + \"Raze\" + \".png\")[:, :, ::-1]\n",
    "raze = cv2.resize(raze, (100, 100))\n",
    "print(raze.shape)\n",
    "non_zero = raze > np.array([0, 0, 0])"
   ]
  },
  {
   "cell_type": "code",
   "execution_count": 6,
   "metadata": {},
   "outputs": [],
   "source": [
    "def add_rands(im):\n",
    "    num = random.randint(1, 5)\n",
    "    l = random.sample(range(0, 10), num)\n",
    "    chars = adds[l]\n",
    "    im = cv2.resize(cv2.imread(\"Maps/\" + im + \".png\"), (256, 256))\n",
    "    boxes = []\n",
    "    for char in chars:\n",
    "        x = np.random.randint(50, 200)\n",
    "        y = np.random.randint(50, 200)\n",
    "        size = np.random.randint(8, 16)*2\n",
    "        add_character(im, x, y, size, char)\n",
    "        box = [[x-size//2, y-size//2], [x+size//2, y+size//2]]\n",
    "        boxes.append(box)\n",
    "    boxes = np.array(boxes)\n",
    "    return im, boxes, chars"
   ]
  },
  {
   "cell_type": "code",
   "execution_count": 7,
   "metadata": {},
   "outputs": [],
   "source": [
    "images_all = []\n",
    "boxes_all = []\n",
    "labels_all = []"
   ]
  },
  {
   "cell_type": "code",
   "execution_count": 8,
   "metadata": {},
   "outputs": [],
   "source": [
    "for i in range(50):\n",
    "    im, boxes, labels = add_rands(\"Haven\")\n",
    "    images_all.append(im)\n",
    "    boxes_all.append(boxes)\n",
    "    labels_all.append(labels)"
   ]
  },
  {
   "cell_type": "code",
   "execution_count": 9,
   "metadata": {},
   "outputs": [
    {
     "data": {
      "text/plain": [
       "'for i in range(5, 10):\\n    im, boxes, labels = add_rands(\"Bind\")\\n    images_all.append(im)\\n    boxes_all.append(boxes)\\n    labels_all.append(labels)'"
      ]
     },
     "execution_count": 9,
     "metadata": {},
     "output_type": "execute_result"
    }
   ],
   "source": [
    "\"\"\"for i in range(5, 10):\n",
    "    im, boxes, labels = add_rands(\"Bind\")\n",
    "    images_all.append(im)\n",
    "    boxes_all.append(boxes)\n",
    "    labels_all.append(labels)\"\"\""
   ]
  },
  {
   "cell_type": "code",
   "execution_count": 10,
   "metadata": {},
   "outputs": [
    {
     "data": {
      "text/plain": [
       "'for i in range(10, 15):\\n    im, boxes, labels = add_rands(\"Split\")\\n    images_all.append(im)\\n    boxes_all.append(boxes)\\n    labels_all.append(labels)'"
      ]
     },
     "execution_count": 10,
     "metadata": {},
     "output_type": "execute_result"
    }
   ],
   "source": [
    "\"\"\"for i in range(10, 15):\n",
    "    im, boxes, labels = add_rands(\"Split\")\n",
    "    images_all.append(im)\n",
    "    boxes_all.append(boxes)\n",
    "    labels_all.append(labels)\"\"\""
   ]
  },
  {
   "cell_type": "code",
   "execution_count": 11,
   "metadata": {},
   "outputs": [],
   "source": [
    "chars = {\"Breach\":0, \"Brimstone\":1, \"Cypher\":2, \"Jett\":3, \"Omen\":4, \"Phoenix\":5, \"Raze\":6, \"Reyna\":7, \"Sage\":8, \"Sova\":9, \"Viper\":10}\n",
    "for i in range(len(labels_all)):\n",
    "    for j in range(len(labels_all[i])):\n",
    "        labels_all[i][j] = chars[labels_all[i][j]]"
   ]
  },
  {
   "cell_type": "code",
   "execution_count": 12,
   "metadata": {},
   "outputs": [],
   "source": [
    "# np.save(\"data/train/images\", np.array(images_all)/255)\n",
    "# np.save(\"data/train/boxes\", np.array(boxes_all), allow_pickle=True)\n",
    "# np.save(\"data/train/labels\", np.array(labels_all), allow_pickle=True)"
   ]
  },
  {
   "cell_type": "code",
   "execution_count": null,
   "metadata": {},
   "outputs": [],
   "source": []
  },
  {
   "cell_type": "code",
   "execution_count": 13,
   "metadata": {},
   "outputs": [],
   "source": [
    "images = np.array(images_all)/255\n",
    "boxes = np.array(boxes_all)\n",
    "labels = np.array(labels_all)"
   ]
  },
  {
   "cell_type": "code",
   "execution_count": null,
   "metadata": {},
   "outputs": [],
   "source": []
  },
  {
   "cell_type": "code",
   "execution_count": 14,
   "metadata": {},
   "outputs": [
    {
     "name": "stdout",
     "output_type": "stream",
     "text": [
      "(50, 256, 256, 3) (50,) (50,)\n",
      "(2, 2, 2) (2,)\n"
     ]
    }
   ],
   "source": [
    "print(images.shape, boxes.shape, labels.shape)\n",
    "print(boxes[1].shape, labels[1].shape)"
   ]
  },
  {
   "cell_type": "code",
   "execution_count": 15,
   "metadata": {},
   "outputs": [],
   "source": [
    "from pathlib import Path\n",
    "\n",
    "import numpy as np\n",
    "import matplotlib.pyplot as plt\n",
    "from matplotlib.patches import Rectangle\n",
    "%matplotlib inline\n",
    "\n",
    "import torch\n",
    "from torch import nn\n",
    "import torch.nn.functional as F\n",
    "import numba\n",
    "\n",
    "from detection_utils.boxes import non_max_suppression\n",
    "from detection_utils.metrics import compute_recall, compute_precision\n",
    "from detection_utils.pytorch import softmax_focal_loss"
   ]
  },
  {
   "cell_type": "code",
   "execution_count": 16,
   "metadata": {},
   "outputs": [
    {
     "name": "stdout",
     "output_type": "stream",
     "text": [
      "cuda:0\n"
     ]
    }
   ],
   "source": [
    "batch_size = 5  # feel free to manipulate this as needed for GPU memory or as desired\n",
    "\n",
    "device = 'cuda:0' if torch.cuda.is_available() else 'cpu'\n",
    "print(device)"
   ]
  },
  {
   "cell_type": "code",
   "execution_count": 17,
   "metadata": {},
   "outputs": [
    {
     "data": {
      "image/png": "[encoded data removed]",
      "text/plain": [
       "<Figure size 432x288 with 1 Axes>"
      ]
     },
     "metadata": {
      "needs_background": "light"
     },
     "output_type": "display_data"
    }
   ],
   "source": [
    "import matplotlib.pyplot as plt\n",
    "fig, ax = plt.subplots()"
   ]
  },
  {
   "cell_type": "code",
   "execution_count": 18,
   "metadata": {},
   "outputs": [],
   "source": [
    "train_images, train_boxes, train_labels = images, boxes, labels\n",
    "val_images, val_boxes, val_label = images, boxes, labels\n",
    "train_images = torch.tensor(train_images.transpose(0, 3, 1, 2)).float().to(device)\n",
    "val_images = torch.tensor(val_images.transpose(0, 3, 1, 2)).float().to(device)"
   ]
  },
  {
   "cell_type": "code",
   "execution_count": 19,
   "metadata": {},
   "outputs": [],
   "source": [
    "# import paramiko\n",
    "\n",
    "# host = \"173.48.66.87\"\n",
    "# port = 22\n",
    "# username = \"dios\"\n",
    "# password = \"dios\"\n",
    "# command = 'echo \"Hello Dios\" >> newfile.py'\n",
    "\n",
    "\n",
    "# client = paramiko.Transport((host, port))\n",
    "# client.connect(username=username, password=password)\n",
    "\n",
    "# stdout_data = []\n",
    "# stderr_data = []\n",
    "# session = client.open_channel(kind='session')\n",
    "# session.exec_command(command)"
   ]
  },
  {
   "cell_type": "code",
   "execution_count": null,
   "metadata": {},
   "outputs": [],
   "source": []
  },
  {
   "cell_type": "code",
   "execution_count": 20,
   "metadata": {},
   "outputs": [],
   "source": [
    "class Model(nn.Module):\n",
    "    def __init__(self):\n",
    "        super().__init__()\n",
    "        self.conv1 = nn.Conv2d(3, 10, 3, padding=1)\n",
    "        self.conv2 = nn.Conv2d(10, 20, 3, padding=1)\n",
    "        self.conv3 = nn.Conv2d(20, 30, 3, padding=1)\n",
    "        self.conv4 = nn.Conv2d(30, 40, 3, padding=1)\n",
    "        \n",
    "        self.classification = nn.Conv2d(40, 4, 1) # background / rectangle / triangle / circle\n",
    "        self.regression = nn.Conv2d(40, 4, 1)\n",
    "        \n",
    "        for layer in (self.conv1, self.conv2, self.conv3, self.conv4,\n",
    "                     self.classification, self.regression):\n",
    "            nn.init.xavier_normal_(layer.weight, np.sqrt(2))\n",
    "            nn.init.constant_(layer.bias, 0)\n",
    "\n",
    "        nn.init.constant_(self.classification.bias[0], -4.6)  # rougly -log((1-π)/π) for π = 0.01\n",
    "        \n",
    "    def forward(self, x):\n",
    "        x = F.max_pool2d(F.relu(self.conv1(x)), 2)\n",
    "        x = F.max_pool2d(F.relu(self.conv2(x)), 2)\n",
    "        x = F.max_pool2d(F.relu(self.conv3(x)), 2)\n",
    "        x = F.max_pool2d(F.relu(self.conv4(x)), 2)\n",
    "        \n",
    "        classifications = self.classification(x).permute(0, 2, 3, 1)                          # (N, R, C, # classes)\n",
    "        classifications = classifications.reshape(x.shape[0], -1, classifications.shape[-1])  # (N, R*C, # classes)\n",
    "        regressions = self.regression(x).permute(0, 2, 3, 1)                                  # (N, R, C, # classes)\n",
    "        regressions = regressions.reshape(x.shape[0], -1, 4)                                  # (N, R*C, 4)\n",
    "        return classifications, regressions"
   ]
  },
  {
   "cell_type": "code",
   "execution_count": 21,
   "metadata": {},
   "outputs": [],
   "source": [
    "anchor_boxes = []\n",
    "for y in range(0, train_images.shape[2], 16):\n",
    "    for x in range(0, train_images.shape[3], 16):\n",
    "        anchor_boxes.append(np.array([-16, -16, 16, 16]) + np.array([x, y, x, y]))\n",
    "anchor_boxes = np.vstack(anchor_boxes)\n",
    "# anchor_boxes are in xyxy format"
   ]
  },
  {
   "cell_type": "code",
   "execution_count": 22,
   "metadata": {},
   "outputs": [],
   "source": [
    "for i in range(len(train_boxes)):\n",
    "    train_boxes[i] = train_boxes[i].reshape(-1, 4)\n",
    "\n",
    "for i in range(len(val_boxes)):\n",
    "    val_boxes[i] = val_boxes[i].reshape(-1, 4)"
   ]
  },
  {
   "cell_type": "code",
   "execution_count": 23,
   "metadata": {},
   "outputs": [
    {
     "name": "stdout",
     "output_type": "stream",
     "text": [
      "(256, 4) (2, 4)\n",
      "(256, 4) (2, 4)\n",
      "(256, 4) (2, 4)\n",
      "(256, 4) (4, 4)\n",
      "(256, 4) (1, 4)\n",
      "(256, 4) (5, 4)\n",
      "(256, 4) (2, 4)\n",
      "(256, 4) (5, 4)\n",
      "(256, 4) (2, 4)\n",
      "(256, 4) (3, 4)\n",
      "(256, 4) (1, 4)\n",
      "(256, 4) (4, 4)\n",
      "(256, 4) (3, 4)\n",
      "(256, 4) (1, 4)\n",
      "(256, 4) (1, 4)\n",
      "(256, 4) (1, 4)\n",
      "(256, 4) (5, 4)\n",
      "(256, 4) (4, 4)\n",
      "(256, 4) (3, 4)\n",
      "(256, 4) (2, 4)\n",
      "(256, 4) (2, 4)\n",
      "(256, 4) (5, 4)\n",
      "(256, 4) (1, 4)\n",
      "(256, 4) (1, 4)\n",
      "(256, 4) (2, 4)\n",
      "(256, 4) (4, 4)\n",
      "(256, 4) (3, 4)\n",
      "(256, 4) (5, 4)\n",
      "(256, 4) (3, 4)\n",
      "(256, 4) (1, 4)\n",
      "(256, 4) (3, 4)\n",
      "(256, 4) (1, 4)\n",
      "(256, 4) (1, 4)\n",
      "(256, 4) (4, 4)\n",
      "(256, 4) (1, 4)\n",
      "(256, 4) (4, 4)\n",
      "(256, 4) (5, 4)\n",
      "(256, 4) (5, 4)\n",
      "(256, 4) (2, 4)\n",
      "(256, 4) (1, 4)\n",
      "(256, 4) (1, 4)\n",
      "(256, 4) (2, 4)\n",
      "(256, 4) (5, 4)\n",
      "(256, 4) (1, 4)\n",
      "(256, 4) (5, 4)\n",
      "(256, 4) (4, 4)\n",
      "(256, 4) (5, 4)\n",
      "(256, 4) (2, 4)\n",
      "(256, 4) (5, 4)\n",
      "(256, 4) (2, 4)\n"
     ]
    }
   ],
   "source": [
    "train_cls_targs, train_reg_targs = zip(*(generate_targets(anchor_boxes, bxs, lbls, 0.2, 0.1)\n",
    "                                         for bxs, lbls in zip(train_boxes, train_labels)))\n",
    "# val_cls_targs, val_reg_targs = zip(*(generate_targets(anchor_boxes, bxs, lbls, 0.2, 0.1) \n",
    "#                                      for bxs, lbls in zip(val_boxes, val_labels)))\n",
    "\n",
    "# For convenience (and to minimize data transfers) we'll shove all of this onto our\n",
    "# device as well. This only takes a couple of megabytes of GPU memory\n",
    "train_reg_targs = torch.tensor(train_reg_targs).float().to(device)\n",
    "train_cls_targs = torch.tensor(train_cls_targs).long().to(device)\n",
    "# val_reg_targs = torch.tensor(val_reg_targs).float().to(device)\n",
    "# val_cls_targs = torch.tensor(val_cls_targs).long().to(device)"
   ]
  },
  {
   "cell_type": "code",
   "execution_count": 24,
   "metadata": {},
   "outputs": [],
   "source": [
    "# our loss function is a combination of focal loss for classification\n",
    "# and smooth L1 (Huber) loss for regression\n",
    "def loss(class_predictions, regression_predictions, class_targets, regression_targets):\n",
    "    class_targets = class_targets.reshape(-1)\n",
    "    regression_targets = regression_targets.reshape(-1, 4)\n",
    "    class_predictions = class_predictions.reshape(-1, class_predictions.shape[-1])\n",
    "    regression_predictions = regression_predictions.reshape(-1, 4)\n",
    "\n",
    "    regression_loss = torch.tensor(0).float()\n",
    "    mask = torch.squeeze(class_targets > 0)\n",
    "    num_foreground = mask.sum().item()\n",
    "    if mask.numel() > 0:\n",
    "        regression_loss = F.smooth_l1_loss(\n",
    "            regression_predictions[mask], regression_targets[mask]\n",
    "        )\n",
    "\n",
    "    mask = torch.squeeze(class_targets > -1)\n",
    "    \n",
    "    # the sum of focal loss terms is normalized by the number\n",
    "    # of anchors assigned to a ground-truth box\n",
    "    classification_loss = softmax_focal_loss(\n",
    "        class_predictions[mask],\n",
    "        class_targets[mask],\n",
    "        alpha=0.25,\n",
    "        gamma=2,\n",
    "        reduction=\"sum\",\n",
    "    ) / num_foreground\n",
    "\n",
    "    return classification_loss, regression_loss"
   ]
  },
  {
   "cell_type": "code",
   "execution_count": 25,
   "metadata": {},
   "outputs": [],
   "source": [
    "def compute_detections(classifications, regressions, feature_map_width, anchor_box_step, anchor_box_size):\n",
    "    \"\"\" Compute a set of boxes, class predictions, and foreground scores from\n",
    "        detection model outputs.\n",
    "\n",
    "    Parameters\n",
    "    ----------\n",
    "    classifications : torch.Tensor, shape=(N, R*C, # classes)\n",
    "        A set of class predictions at each spatial location.\n",
    "\n",
    "    regressions : torch.Tensor, shape=(N, R*C, 4)\n",
    "        A set of predicted box offsets, in (x, y, w, h) at each spatial location.\n",
    "\n",
    "    feature_map_width : int\n",
    "        The number of pixels in the feature map, along the x direction.\n",
    "\n",
    "    anchor_box_step : int\n",
    "        The number of pixels (in image space) between each anchor box.\n",
    "\n",
    "    anchor_box_size : int\n",
    "        The side length of the anchor box.\n",
    "\n",
    "    Returns\n",
    "    -------\n",
    "    Tuple[numpy.ndarray shape=(R*C, 4), numpy.ndarray shape=(R*C, 1), numpy.ndarray shape=(R*C,)]\n",
    "        The (boxes, class predictions, foreground scores) at each spatial location.\n",
    "    \"\"\"\n",
    "    box_predictions = np.empty((len(regressions), 4), dtype=np.float32)\n",
    "    scores = torch.softmax(classifications, dim=-1).detach().cpu().numpy()\n",
    "    scores = 1 - scores[:, 0]  # foreground score\n",
    "\n",
    "    class_predictions = classifications.argmax(dim=-1, keepdim=True).detach().cpu().numpy()\n",
    "    regressions = regressions.detach().cpu().numpy()\n",
    "\n",
    "    y, x = np.divmod(np.arange(len(classifications)), feature_map_width, dtype=np.float32)\n",
    "    x_reg, y_reg, w_reg, h_reg = regressions.T  # transform (R*C, 4) to (4, R*C) for assignment\n",
    "    x = anchor_box_step * x + anchor_box_size * x_reg\n",
    "    y = anchor_box_step * y + anchor_box_size * y_reg\n",
    "\n",
    "    half_w = np.clip(np.exp(w_reg), 0, 10**6) * anchor_box_size / 2\n",
    "    half_h = np.clip(np.exp(h_reg), 0, 10**6) * anchor_box_size / 2\n",
    "\n",
    "    box_predictions[:, 0] = x - half_w  # x1\n",
    "    box_predictions[:, 1] = y - half_h  # y1\n",
    "    box_predictions[:, 2] = x + half_w  # x2\n",
    "    box_predictions[:, 3] = y + half_h  # y2\n",
    "\n",
    "    return box_predictions, class_predictions, scores"
   ]
  },
  {
   "cell_type": "code",
   "execution_count": 26,
   "metadata": {},
   "outputs": [],
   "source": [
    "def compute_batch_stats(class_predictions, regression_predictions, boxes, labels, feature_map_width,\n",
    "                        anchor_box_step=16, anchor_box_size=32, threshold=0.5):\n",
    "    \"\"\" Compute the batch statistics (AP and AR) given a batch of predictions and truth.\n",
    "\n",
    "    Parameters\n",
    "    ----------\n",
    "    class_predictions : numpy.ndarray, shape=(N, K, C)\n",
    "        The predicted class scores of each of N images at each of K anchor boxes.\n",
    "\n",
    "    regression_predictions : numpy.ndarray, shape=(N, K, 4)\n",
    "        The predicted regression values of each of N images at each of K anchor boxes.\n",
    "\n",
    "    boxes : numpy.ndarray, shape=(N,)\n",
    "        The truth boxes for each image. Note that each of the N elements is of \n",
    "        shape (W_i, 4), where W_i is the number of objects in image i.\n",
    "\n",
    "    labels : numpy.ndarray, shape=(N,)\n",
    "        The truth labels for each image. Note that each of the N elements is of\n",
    "        shape (W_i,), where  W_i is the number of objects in image i.\n",
    "\n",
    "    feature_map_width : int, optional (default=40)\n",
    "        The width of the feature map.\n",
    "\n",
    "    anchor_box_step : int, optional (default=16)\n",
    "        The stride across the image at which anchor boxes are placed.\n",
    "\n",
    "    anchor_box_size : int, optional (default=32)\n",
    "        The side length of each anchor box.\n",
    "\n",
    "    threshold : Real, optional (default=0.5)\n",
    "        The confidence threshold under which to cull predictions.\n",
    "\n",
    "    Returns\n",
    "    -------\n",
    "    Tuple[List[float], List[float]]\n",
    "        The (aps, ars) for the images.\n",
    "    \"\"\"\n",
    "    aps, ars = [], []\n",
    "    for i in range(len(class_predictions)):\n",
    "        truth_detections = np.hstack((boxes[i], labels[i][:, None]))\n",
    "\n",
    "        box_preds, class_preds, scores = compute_detections(class_predictions[i], \n",
    "                                                            regression_predictions[i],\n",
    "                                                            feature_map_width, \n",
    "                                                            anchor_box_step, \n",
    "                                                            anchor_box_size)\n",
    "\n",
    "        keep_idxs = non_max_suppression(box_preds, scores, 0.3)\n",
    "        detections = np.hstack((box_preds, class_preds))\n",
    "        detections = detections[keep_idxs]\n",
    "        detections = detections[scores[keep_idxs] > threshold]\n",
    "\n",
    "        aps.append(compute_precision(detections, truth_detections, 0.5))\n",
    "        ars.append(compute_recall(detections, truth_detections, 0.5))\n",
    "    return aps, ars"
   ]
  },
  {
   "cell_type": "code",
   "execution_count": 27,
   "metadata": {},
   "outputs": [],
   "source": [
    "model = Model().to(device)\n",
    "optim = torch.optim.Adam(model.parameters(), weight_decay=5e-04)"
   ]
  },
  {
   "cell_type": "code",
   "execution_count": 28,
   "metadata": {},
   "outputs": [],
   "source": [
    "def train_epoch(epoch, batch_size, log_file=None, eval_every=10):\n",
    "    torch.set_grad_enabled(True)\n",
    "    model.train()\n",
    "\n",
    "    idxs = torch.randperm(len(train_images))  # shuffle indices\n",
    "    for itr, batch in enumerate(\n",
    "        (slice(i, i + batch_size) for i in range(0, len(train_images), batch_size))\n",
    "    ):\n",
    "        batch = idxs[batch]\n",
    "\n",
    "        class_predictions, regression_predictions = model(train_images[batch])\n",
    "        aps, ars = compute_batch_stats(\n",
    "            class_predictions,\n",
    "            regression_predictions,\n",
    "            train_boxes[batch],\n",
    "            train_labels[batch],\n",
    "            feature_map_width=16,\n",
    "        )\n",
    "        total_cls_loss, total_reg_loss = loss(\n",
    "            class_predictions,\n",
    "            regression_predictions,\n",
    "            train_cls_targs[batch],\n",
    "            train_reg_targs[batch],\n",
    "        )\n",
    "\n",
    "        optim.zero_grad()\n",
    "        (total_cls_loss + total_reg_loss).backward()\n",
    "        optim.step()\n",
    "\n",
    "\n",
    "        if log_file is not None:\n",
    "            log_str = f\"Epoch {epoch:03d} batch {itr+1:05d}: \"\n",
    "            log_str += f\"Loss {(total_cls_loss + total_reg_loss).item():0.4f}\"\n",
    "            log_str += f\" Regression loss {total_reg_loss.item():0.4f}\"\n",
    "            log_str += f\" Classification loss {total_cls_loss.item():0.4f}\"\n",
    "            log_str += f\" AP {np.mean(aps):0.4f} AR {np.mean(ars):0.4f}\"\n",
    "            log_file.write(log_str + \"\\n\")\n",
    "\n",
    "        if (itr + 1) % 10 == 0:\n",
    "            print(f\"Epoch {epoch} iteration {itr + 1}\", end=\"\\r\")\n",
    "\n",
    "    if epoch % eval_every == 0:\n",
    "        aps, ars = [], []\n",
    "        idxs = torch.arange(len(val_images))\n",
    "        for itr, batch in enumerate(\n",
    "            (slice(i, i + batch_size) for i in range(0, len(val_images), batch_size))\n",
    "        ):\n",
    "            batch = idxs[batch]\n",
    "\n",
    "            class_predictions, regression_predictions = model(val_images[batch])\n",
    "            ap, ar = compute_batch_stats(\n",
    "                class_predictions,\n",
    "                regression_predictions,\n",
    "                val_boxes[batch],\n",
    "                val_labels[batch],\n",
    "                feature_map_width=16,\n",
    "            )\n",
    "            aps += ap\n",
    "            ars += ar\n",
    "\n",
    "        print(\n",
    "            f\"Epoch {epoch:03d}  Validation: {np.mean(aps):0.3f} mAP, {np.mean(ars):0.3f} mAR\"\n",
    "        )"
   ]
  },
  {
   "cell_type": "code",
   "execution_count": 29,
   "metadata": {},
   "outputs": [],
   "source": [
    "val_images = train_images\n",
    "val_boxes = train_boxes\n",
    "val_labels = train_labels"
   ]
  },
  {
   "cell_type": "code",
   "execution_count": null,
   "metadata": {},
   "outputs": [],
   "source": []
  },
  {
   "cell_type": "code",
   "execution_count": 30,
   "metadata": {},
   "outputs": [
    {
     "data": {
      "text/plain": [
       "torch.float32"
      ]
     },
     "execution_count": 30,
     "metadata": {},
     "output_type": "execute_result"
    }
   ],
   "source": [
    "train_images.dtype"
   ]
  },
  {
   "cell_type": "code",
   "execution_count": 31,
   "metadata": {},
   "outputs": [],
   "source": [
    "\n",
    "for i in range(len(train_labels)):\n",
    "    train_labels[i] = np.array(train_labels[i], dtype=np.float32)"
   ]
  },
  {
   "cell_type": "code",
   "execution_count": 32,
   "metadata": {
    "scrolled": true
   },
   "outputs": [
    {
     "data": {
      "text/plain": [
       "array([array([3., 6.], dtype=float32), array([9., 0.], dtype=float32),\n",
       "       array([3., 5.], dtype=float32),\n",
       "       array([2., 1., 6., 0.], dtype=float32), array([2.], dtype=float32),\n",
       "       array([9., 8., 3., 5., 4.], dtype=float32),\n",
       "       array([6., 3.], dtype=float32),\n",
       "       array([0., 2., 8., 3., 1.], dtype=float32),\n",
       "       array([3., 6.], dtype=float32), array([9., 1., 3.], dtype=float32),\n",
       "       array([5.], dtype=float32), array([6., 4., 0., 7.], dtype=float32),\n",
       "       array([8., 9., 5.], dtype=float32), array([3.], dtype=float32),\n",
       "       array([9.], dtype=float32), array([2.], dtype=float32),\n",
       "       array([3., 2., 5., 0., 8.], dtype=float32),\n",
       "       array([2., 0., 4., 9.], dtype=float32),\n",
       "       array([7., 1., 6.], dtype=float32), array([1., 0.], dtype=float32),\n",
       "       array([2., 6.], dtype=float32),\n",
       "       array([4., 2., 9., 8., 6.], dtype=float32),\n",
       "       array([9.], dtype=float32), array([3.], dtype=float32),\n",
       "       array([2., 5.], dtype=float32),\n",
       "       array([6., 7., 5., 2.], dtype=float32),\n",
       "       array([6., 1., 4.], dtype=float32),\n",
       "       array([0., 7., 9., 8., 6.], dtype=float32),\n",
       "       array([4., 5., 9.], dtype=float32), array([0.], dtype=float32),\n",
       "       array([1., 5., 4.], dtype=float32), array([7.], dtype=float32),\n",
       "       array([5.], dtype=float32), array([2., 7., 6., 4.], dtype=float32),\n",
       "       array([4.], dtype=float32), array([5., 6., 0., 8.], dtype=float32),\n",
       "       array([4., 7., 5., 9., 2.], dtype=float32),\n",
       "       array([4., 2., 5., 1., 9.], dtype=float32),\n",
       "       array([3., 7.], dtype=float32), array([3.], dtype=float32),\n",
       "       array([4.], dtype=float32), array([7., 6.], dtype=float32),\n",
       "       array([5., 9., 0., 6., 4.], dtype=float32),\n",
       "       array([4.], dtype=float32),\n",
       "       array([5., 9., 6., 1., 3.], dtype=float32),\n",
       "       array([4., 9., 8., 1.], dtype=float32),\n",
       "       array([9., 5., 3., 8., 2.], dtype=float32),\n",
       "       array([4., 7.], dtype=float32),\n",
       "       array([4., 0., 3., 1., 8.], dtype=float32),\n",
       "       array([5., 7.], dtype=float32)], dtype=object)"
      ]
     },
     "execution_count": 32,
     "metadata": {},
     "output_type": "execute_result"
    }
   ],
   "source": [
    "train_labels"
   ]
  },
  {
   "cell_type": "code",
   "execution_count": 33,
   "metadata": {},
   "outputs": [],
   "source": [
    "for i in range(len(train_labels)):\n",
    "    train_labels[i] = np.array(train_labels[i], dtype=np.int32)\n",
    "    \n",
    "for i in range(len(train_boxes)):\n",
    "    train_boxes[i] = np.array(train_boxes[i], dtype=np.float32)"
   ]
  },
  {
   "cell_type": "code",
   "execution_count": null,
   "metadata": {},
   "outputs": [],
   "source": []
  },
  {
   "cell_type": "code",
   "execution_count": null,
   "metadata": {},
   "outputs": [],
   "source": []
  },
  {
   "cell_type": "code",
   "execution_count": 34,
   "metadata": {},
   "outputs": [
    {
     "data": {
      "text/plain": [
       "array([[174.,  89., 196., 111.],\n",
       "       [134.,  53., 160.,  79.]], dtype=float32)"
      ]
     },
     "execution_count": 34,
     "metadata": {},
     "output_type": "execute_result"
    }
   ],
   "source": [
    "val_boxes[0]"
   ]
  },
  {
   "cell_type": "code",
   "execution_count": 35,
   "metadata": {
    "scrolled": true
   },
   "outputs": [
    {
     "name": "stdout",
     "output_type": "stream",
     "text": [
      "Epoch 020  Validation: 0.920 mAP, 0.020 mAR\n",
      "Epoch 040  Validation: 1.000 mAP, 0.020 mAR\n",
      "Epoch 060  Validation: 0.980 mAP, 0.025 mAR\n",
      "Epoch 080  Validation: 1.000 mAP, 0.020 mAR\n",
      "Epoch 100  Validation: 0.850 mAP, 0.054 mAR\n",
      "Epoch 120  Validation: 0.940 mAP, 0.050 mAR\n",
      "Epoch 140  Validation: 0.860 mAP, 0.054 mAR\n",
      "Epoch 160  Validation: 0.592 mAP, 0.072 mAR\n",
      "Epoch 180  Validation: 0.670 mAP, 0.059 mAR\n",
      "Epoch 200  Validation: 0.550 mAP, 0.060 mAR\n",
      "Epoch 220  Validation: 0.637 mAP, 0.091 mAR\n",
      "Epoch 240  Validation: 0.585 mAP, 0.109 mAR\n",
      "Epoch 260  Validation: 0.592 mAP, 0.122 mAR\n",
      "Epoch 280  Validation: 0.505 mAP, 0.099 mAR\n",
      "Epoch 300  Validation: 0.531 mAP, 0.136 mAR\n",
      "Epoch 320  Validation: 0.598 mAP, 0.148 mAR\n",
      "Epoch 340  Validation: 0.486 mAP, 0.122 mAR\n",
      "Epoch 360  Validation: 0.554 mAP, 0.151 mAR\n",
      "Epoch 380  Validation: 0.418 mAP, 0.138 mAR\n",
      "Epoch 400  Validation: 0.557 mAP, 0.130 mAR\n",
      "Epoch 420  Validation: 0.583 mAP, 0.169 mAR\n",
      "Epoch 440  Validation: 0.582 mAP, 0.143 mAR\n",
      "Epoch 460  Validation: 0.583 mAP, 0.162 mAR\n",
      "Epoch 480  Validation: 0.566 mAP, 0.137 mAR\n",
      "Epoch 500  Validation: 0.600 mAP, 0.172 mAR\n"
     ]
    }
   ],
   "source": [
    "with open('log.txt', 'w') as log:\n",
    "    for epoch in range(1, 501):\n",
    "        train_epoch(epoch, batch_size, log, eval_every=20)"
   ]
  },
  {
   "cell_type": "code",
   "execution_count": null,
   "metadata": {},
   "outputs": [],
   "source": []
  },
  {
   "cell_type": "code",
   "execution_count": 36,
   "metadata": {
    "scrolled": true
   },
   "outputs": [
    {
     "data": {
      "text/plain": [
       "<matplotlib.collections.PathCollection at 0x22c2d10be08>"
      ]
     },
     "execution_count": 36,
     "metadata": {},
     "output_type": "execute_result"
    },
    {
     "data": {
      "image/png": "[encoded data removed]",
      "text/plain": [
       "<Figure size 432x288 with 1 Axes>"
      ]
     },
     "metadata": {
      "needs_background": "light"
     },
     "output_type": "display_data"
    }
   ],
   "source": [
    "losses, aps, ars = [], [], []\n",
    "with open('log.txt') as f:\n",
    "    for line in f:\n",
    "        line = line.split()\n",
    "        losses.append(float(line[5]))\n",
    "        aps.append(float(line[-3]))\n",
    "        ars.append(float(line[-1]))\n",
    "\n",
    "fig, ax = plt.subplots()\n",
    "ax.scatter(range(len(aps)), aps)\n",
    "ax.scatter(range(len(ars)), ars)"
   ]
  },
  {
   "cell_type": "code",
   "execution_count": 37,
   "metadata": {},
   "outputs": [],
   "source": [
    "characters = [\"Breach\", \"Brimstone\", \"Cypher\", \"Jett\", \"Omen\", \"Phoenix\", \"Raze\", \"Reyna\", \"Sage\", \"Sova\", \"Viper\"]"
   ]
  },
  {
   "cell_type": "code",
   "execution_count": 63,
   "metadata": {},
   "outputs": [],
   "source": [
    "def visualize_random_image(model, threshold=0, idx=None):\n",
    "    fig, ax = plt.subplots(figsize=(10, 10))\n",
    "    idx = np.random.randint(len(val_images)) if idx is None else idx\n",
    "    print(idx)\n",
    "    img = val_images[idx].permute(1,2,0)[:,:,::-1]\n",
    "    ax.imshow(img.cpu())\n",
    "    ax.axis('off')\n",
    "\n",
    "    out_cls, out_reg = model(img[np.newaxis])\n",
    "    box_preds, class_preds, scores = compute_detections(out_cls.squeeze(), \n",
    "                                                        out_reg.squeeze(), \n",
    "                                                        feature_map_width=16,\n",
    "                                                        anchor_box_step=16, \n",
    "                                                        anchor_box_size=32)\n",
    "\n",
    "    keep = scores > threshold\n",
    "    box_preds = box_preds[keep]\n",
    "    class_preds = class_preds[keep]\n",
    "    scores = scores[keep]\n",
    "    keep_idxs = non_max_suppression(box_preds, scores, threshold=0.1)\n",
    "    box_preds = box_preds[keep_idxs]\n",
    "    class_preds = class_preds[keep_idxs]\n",
    "\n",
    "    for class_pred, box_pred in zip(class_preds, box_preds):\n",
    "        if class_pred > 0:\n",
    "            x1, y1, x2, y2 = box_pred\n",
    "            ax.add_patch(Rectangle((x1, y1), x2 - x1, y2 - y1, color='r', fill=None, lw=2))\n",
    "            label = characters[int(class_pred)]\n",
    "            \"\"\"\n",
    "            label = 'Breach' if label == 1 else label\n",
    "            label = 'Brimstone' if label == 2 else label\n",
    "            label = 'Cypher' if label == 3 else label\n",
    "            label = 'Jett' if label == 4 else label\n",
    "            label = 'Omen' if label == 5 else label\n",
    "                        \n",
    "            label = ''\n",
    "            \"\"\"\n",
    "            ax.annotate(label, (x1, y1), color='r', fontsize=24)"
   ]
  },
  {
   "cell_type": "code",
   "execution_count": 64,
   "metadata": {
    "scrolled": true
   },
   "outputs": [
    {
     "name": "stdout",
     "output_type": "stream",
     "text": [
      "15\n"
     ]
    },
    {
     "ename": "ValueError",
     "evalue": "step must be greater than zero",
     "output_type": "error",
     "traceback": [
      "\u001b[1;31m---------------------------------------------------------------------------\u001b[0m",
      "\u001b[1;31mValueError\u001b[0m                                Traceback (most recent call last)",
      "\u001b[1;32m<ipython-input-64-c1ad2dcf0b44>\u001b[0m in \u001b[0;36m<module>\u001b[1;34m\u001b[0m\n\u001b[1;32m----> 1\u001b[1;33m \u001b[0mvisualize_random_image\u001b[0m\u001b[1;33m(\u001b[0m\u001b[0mmodel\u001b[0m\u001b[1;33m,\u001b[0m \u001b[0midx\u001b[0m\u001b[1;33m=\u001b[0m\u001b[1;32mNone\u001b[0m\u001b[1;33m)\u001b[0m\u001b[1;33m\u001b[0m\u001b[1;33m\u001b[0m\u001b[0m\n\u001b[0m",
      "\u001b[1;32m<ipython-input-63-b345e0e27687>\u001b[0m in \u001b[0;36mvisualize_random_image\u001b[1;34m(model, threshold, idx)\u001b[0m\n\u001b[0;32m      3\u001b[0m     \u001b[0midx\u001b[0m \u001b[1;33m=\u001b[0m \u001b[0mnp\u001b[0m\u001b[1;33m.\u001b[0m\u001b[0mrandom\u001b[0m\u001b[1;33m.\u001b[0m\u001b[0mrandint\u001b[0m\u001b[1;33m(\u001b[0m\u001b[0mlen\u001b[0m\u001b[1;33m(\u001b[0m\u001b[0mval_images\u001b[0m\u001b[1;33m)\u001b[0m\u001b[1;33m)\u001b[0m \u001b[1;32mif\u001b[0m \u001b[0midx\u001b[0m \u001b[1;32mis\u001b[0m \u001b[1;32mNone\u001b[0m \u001b[1;32melse\u001b[0m \u001b[0midx\u001b[0m\u001b[1;33m\u001b[0m\u001b[1;33m\u001b[0m\u001b[0m\n\u001b[0;32m      4\u001b[0m     \u001b[0mprint\u001b[0m\u001b[1;33m(\u001b[0m\u001b[0midx\u001b[0m\u001b[1;33m)\u001b[0m\u001b[1;33m\u001b[0m\u001b[1;33m\u001b[0m\u001b[0m\n\u001b[1;32m----> 5\u001b[1;33m     \u001b[0mimg\u001b[0m \u001b[1;33m=\u001b[0m \u001b[0mval_images\u001b[0m\u001b[1;33m[\u001b[0m\u001b[0midx\u001b[0m\u001b[1;33m]\u001b[0m\u001b[1;33m.\u001b[0m\u001b[0mpermute\u001b[0m\u001b[1;33m(\u001b[0m\u001b[1;36m1\u001b[0m\u001b[1;33m,\u001b[0m\u001b[1;36m2\u001b[0m\u001b[1;33m,\u001b[0m\u001b[1;36m0\u001b[0m\u001b[1;33m)\u001b[0m\u001b[1;33m[\u001b[0m\u001b[1;33m:\u001b[0m\u001b[1;33m,\u001b[0m\u001b[1;33m:\u001b[0m\u001b[1;33m,\u001b[0m\u001b[1;33m:\u001b[0m\u001b[1;33m:\u001b[0m\u001b[1;33m-\u001b[0m\u001b[1;36m1\u001b[0m\u001b[1;33m]\u001b[0m\u001b[1;33m\u001b[0m\u001b[1;33m\u001b[0m\u001b[0m\n\u001b[0m\u001b[0;32m      6\u001b[0m     \u001b[0max\u001b[0m\u001b[1;33m.\u001b[0m\u001b[0mimshow\u001b[0m\u001b[1;33m(\u001b[0m\u001b[0mimg\u001b[0m\u001b[1;33m.\u001b[0m\u001b[0mcpu\u001b[0m\u001b[1;33m(\u001b[0m\u001b[1;33m)\u001b[0m\u001b[1;33m)\u001b[0m\u001b[1;33m\u001b[0m\u001b[1;33m\u001b[0m\u001b[0m\n\u001b[0;32m      7\u001b[0m     \u001b[0max\u001b[0m\u001b[1;33m.\u001b[0m\u001b[0maxis\u001b[0m\u001b[1;33m(\u001b[0m\u001b[1;34m'off'\u001b[0m\u001b[1;33m)\u001b[0m\u001b[1;33m\u001b[0m\u001b[1;33m\u001b[0m\u001b[0m\n",
      "\u001b[1;31mValueError\u001b[0m: step must be greater than zero"
     ]
    },
    {
     "data": {
      "image/png": "[encoded data removed]",
      "text/plain": [
       "<Figure size 720x720 with 1 Axes>"
      ]
     },
     "metadata": {
      "needs_background": "light"
     },
     "output_type": "display_data"
    }
   ],
   "source": [
    "visualize_random_image(model, idx=None)"
   ]
  },
  {
   "cell_type": "code",
   "execution_count": 65,
   "metadata": {},
   "outputs": [
    {
     "data": {
      "text/plain": [
       "tensor([[[[0.1843, 0.1725, 0.1804,  ..., 0.3098, 0.3020, 0.3020],\n",
       "          [0.1922, 0.1882, 0.1961,  ..., 0.3020, 0.3020, 0.3020],\n",
       "          [0.1922, 0.1922, 0.1961,  ..., 0.3020, 0.3020, 0.3020],\n",
       "          ...,\n",
       "          [0.2431, 0.2431, 0.2431,  ..., 0.2863, 0.2863, 0.2863],\n",
       "          [0.2392, 0.2431, 0.2510,  ..., 0.2941, 0.2980, 0.2980],\n",
       "          [0.2392, 0.2392, 0.2510,  ..., 0.3020, 0.3020, 0.3020]],\n",
       "\n",
       "         [[0.3216, 0.3137, 0.3176,  ..., 0.5373, 0.5373, 0.5373],\n",
       "          [0.3255, 0.3294, 0.3333,  ..., 0.5255, 0.5255, 0.5255],\n",
       "          [0.3294, 0.3294, 0.3333,  ..., 0.5216, 0.5216, 0.5216],\n",
       "          ...,\n",
       "          [0.3922, 0.3961, 0.4078,  ..., 0.5137, 0.5137, 0.5137],\n",
       "          [0.3922, 0.3922, 0.4078,  ..., 0.5098, 0.5098, 0.5098],\n",
       "          [0.3922, 0.3922, 0.4039,  ..., 0.5098, 0.5098, 0.5059]],\n",
       "\n",
       "         [[0.3020, 0.2980, 0.3020,  ..., 0.5333, 0.5294, 0.5294],\n",
       "          [0.3059, 0.3098, 0.3059,  ..., 0.5137, 0.5137, 0.5137],\n",
       "          [0.3059, 0.3098, 0.3059,  ..., 0.5098, 0.5098, 0.5098],\n",
       "          ...,\n",
       "          [0.3882, 0.3922, 0.4078,  ..., 0.5059, 0.5020, 0.5059],\n",
       "          [0.3843, 0.3882, 0.3961,  ..., 0.5176, 0.5176, 0.5176],\n",
       "          [0.3843, 0.3882, 0.3922,  ..., 0.5176, 0.5176, 0.5137]]],\n",
       "\n",
       "\n",
       "        [[[0.1843, 0.1725, 0.1804,  ..., 0.3098, 0.3020, 0.3020],\n",
       "          [0.1922, 0.1882, 0.1961,  ..., 0.3020, 0.3020, 0.3020],\n",
       "          [0.1922, 0.1922, 0.1961,  ..., 0.3020, 0.3020, 0.3020],\n",
       "          ...,\n",
       "          [0.2431, 0.2431, 0.2431,  ..., 0.2863, 0.2863, 0.2863],\n",
       "          [0.2392, 0.2431, 0.2510,  ..., 0.2941, 0.2980, 0.2980],\n",
       "          [0.2392, 0.2392, 0.2510,  ..., 0.3020, 0.3020, 0.3020]],\n",
       "\n",
       "         [[0.3216, 0.3137, 0.3176,  ..., 0.5373, 0.5373, 0.5373],\n",
       "          [0.3255, 0.3294, 0.3333,  ..., 0.5255, 0.5255, 0.5255],\n",
       "          [0.3294, 0.3294, 0.3333,  ..., 0.5216, 0.5216, 0.5216],\n",
       "          ...,\n",
       "          [0.3922, 0.3961, 0.4078,  ..., 0.5137, 0.5137, 0.5137],\n",
       "          [0.3922, 0.3922, 0.4078,  ..., 0.5098, 0.5098, 0.5098],\n",
       "          [0.3922, 0.3922, 0.4039,  ..., 0.5098, 0.5098, 0.5059]],\n",
       "\n",
       "         [[0.3020, 0.2980, 0.3020,  ..., 0.5333, 0.5294, 0.5294],\n",
       "          [0.3059, 0.3098, 0.3059,  ..., 0.5137, 0.5137, 0.5137],\n",
       "          [0.3059, 0.3098, 0.3059,  ..., 0.5098, 0.5098, 0.5098],\n",
       "          ...,\n",
       "          [0.3882, 0.3922, 0.4078,  ..., 0.5059, 0.5020, 0.5059],\n",
       "          [0.3843, 0.3882, 0.3961,  ..., 0.5176, 0.5176, 0.5176],\n",
       "          [0.3843, 0.3882, 0.3922,  ..., 0.5176, 0.5176, 0.5137]]],\n",
       "\n",
       "\n",
       "        [[[0.1843, 0.1725, 0.1804,  ..., 0.3098, 0.3020, 0.3020],\n",
       "          [0.1922, 0.1882, 0.1961,  ..., 0.3020, 0.3020, 0.3020],\n",
       "          [0.1922, 0.1922, 0.1961,  ..., 0.3020, 0.3020, 0.3020],\n",
       "          ...,\n",
       "          [0.2431, 0.2431, 0.2431,  ..., 0.2863, 0.2863, 0.2863],\n",
       "          [0.2392, 0.2431, 0.2510,  ..., 0.2941, 0.2980, 0.2980],\n",
       "          [0.2392, 0.2392, 0.2510,  ..., 0.3020, 0.3020, 0.3020]],\n",
       "\n",
       "         [[0.3216, 0.3137, 0.3176,  ..., 0.5373, 0.5373, 0.5373],\n",
       "          [0.3255, 0.3294, 0.3333,  ..., 0.5255, 0.5255, 0.5255],\n",
       "          [0.3294, 0.3294, 0.3333,  ..., 0.5216, 0.5216, 0.5216],\n",
       "          ...,\n",
       "          [0.3922, 0.3961, 0.4078,  ..., 0.5137, 0.5137, 0.5137],\n",
       "          [0.3922, 0.3922, 0.4078,  ..., 0.5098, 0.5098, 0.5098],\n",
       "          [0.3922, 0.3922, 0.4039,  ..., 0.5098, 0.5098, 0.5059]],\n",
       "\n",
       "         [[0.3020, 0.2980, 0.3020,  ..., 0.5333, 0.5294, 0.5294],\n",
       "          [0.3059, 0.3098, 0.3059,  ..., 0.5137, 0.5137, 0.5137],\n",
       "          [0.3059, 0.3098, 0.3059,  ..., 0.5098, 0.5098, 0.5098],\n",
       "          ...,\n",
       "          [0.3882, 0.3922, 0.4078,  ..., 0.5059, 0.5020, 0.5059],\n",
       "          [0.3843, 0.3882, 0.3961,  ..., 0.5176, 0.5176, 0.5176],\n",
       "          [0.3843, 0.3882, 0.3922,  ..., 0.5176, 0.5176, 0.5137]]],\n",
       "\n",
       "\n",
       "        ...,\n",
       "\n",
       "\n",
       "        [[[0.1843, 0.1725, 0.1804,  ..., 0.3098, 0.3020, 0.3020],\n",
       "          [0.1922, 0.1882, 0.1961,  ..., 0.3020, 0.3020, 0.3020],\n",
       "          [0.1922, 0.1922, 0.1961,  ..., 0.3020, 0.3020, 0.3020],\n",
       "          ...,\n",
       "          [0.2431, 0.2431, 0.2431,  ..., 0.2863, 0.2863, 0.2863],\n",
       "          [0.2392, 0.2431, 0.2510,  ..., 0.2941, 0.2980, 0.2980],\n",
       "          [0.2392, 0.2392, 0.2510,  ..., 0.3020, 0.3020, 0.3020]],\n",
       "\n",
       "         [[0.3216, 0.3137, 0.3176,  ..., 0.5373, 0.5373, 0.5373],\n",
       "          [0.3255, 0.3294, 0.3333,  ..., 0.5255, 0.5255, 0.5255],\n",
       "          [0.3294, 0.3294, 0.3333,  ..., 0.5216, 0.5216, 0.5216],\n",
       "          ...,\n",
       "          [0.3922, 0.3961, 0.4078,  ..., 0.5137, 0.5137, 0.5137],\n",
       "          [0.3922, 0.3922, 0.4078,  ..., 0.5098, 0.5098, 0.5098],\n",
       "          [0.3922, 0.3922, 0.4039,  ..., 0.5098, 0.5098, 0.5059]],\n",
       "\n",
       "         [[0.3020, 0.2980, 0.3020,  ..., 0.5333, 0.5294, 0.5294],\n",
       "          [0.3059, 0.3098, 0.3059,  ..., 0.5137, 0.5137, 0.5137],\n",
       "          [0.3059, 0.3098, 0.3059,  ..., 0.5098, 0.5098, 0.5098],\n",
       "          ...,\n",
       "          [0.3882, 0.3922, 0.4078,  ..., 0.5059, 0.5020, 0.5059],\n",
       "          [0.3843, 0.3882, 0.3961,  ..., 0.5176, 0.5176, 0.5176],\n",
       "          [0.3843, 0.3882, 0.3922,  ..., 0.5176, 0.5176, 0.5137]]],\n",
       "\n",
       "\n",
       "        [[[0.1843, 0.1725, 0.1804,  ..., 0.3098, 0.3020, 0.3020],\n",
       "          [0.1922, 0.1882, 0.1961,  ..., 0.3020, 0.3020, 0.3020],\n",
       "          [0.1922, 0.1922, 0.1961,  ..., 0.3020, 0.3020, 0.3020],\n",
       "          ...,\n",
       "          [0.2431, 0.2431, 0.2431,  ..., 0.2863, 0.2863, 0.2863],\n",
       "          [0.2392, 0.2431, 0.2510,  ..., 0.2941, 0.2980, 0.2980],\n",
       "          [0.2392, 0.2392, 0.2510,  ..., 0.3020, 0.3020, 0.3020]],\n",
       "\n",
       "         [[0.3216, 0.3137, 0.3176,  ..., 0.5373, 0.5373, 0.5373],\n",
       "          [0.3255, 0.3294, 0.3333,  ..., 0.5255, 0.5255, 0.5255],\n",
       "          [0.3294, 0.3294, 0.3333,  ..., 0.5216, 0.5216, 0.5216],\n",
       "          ...,\n",
       "          [0.3922, 0.3961, 0.4078,  ..., 0.5137, 0.5137, 0.5137],\n",
       "          [0.3922, 0.3922, 0.4078,  ..., 0.5098, 0.5098, 0.5098],\n",
       "          [0.3922, 0.3922, 0.4039,  ..., 0.5098, 0.5098, 0.5059]],\n",
       "\n",
       "         [[0.3020, 0.2980, 0.3020,  ..., 0.5333, 0.5294, 0.5294],\n",
       "          [0.3059, 0.3098, 0.3059,  ..., 0.5137, 0.5137, 0.5137],\n",
       "          [0.3059, 0.3098, 0.3059,  ..., 0.5098, 0.5098, 0.5098],\n",
       "          ...,\n",
       "          [0.3882, 0.3922, 0.4078,  ..., 0.5059, 0.5020, 0.5059],\n",
       "          [0.3843, 0.3882, 0.3961,  ..., 0.5176, 0.5176, 0.5176],\n",
       "          [0.3843, 0.3882, 0.3922,  ..., 0.5176, 0.5176, 0.5137]]],\n",
       "\n",
       "\n",
       "        [[[0.1843, 0.1725, 0.1804,  ..., 0.3098, 0.3020, 0.3020],\n",
       "          [0.1922, 0.1882, 0.1961,  ..., 0.3020, 0.3020, 0.3020],\n",
       "          [0.1922, 0.1922, 0.1961,  ..., 0.3020, 0.3020, 0.3020],\n",
       "          ...,\n",
       "          [0.2431, 0.2431, 0.2431,  ..., 0.2863, 0.2863, 0.2863],\n",
       "          [0.2392, 0.2431, 0.2510,  ..., 0.2941, 0.2980, 0.2980],\n",
       "          [0.2392, 0.2392, 0.2510,  ..., 0.3020, 0.3020, 0.3020]],\n",
       "\n",
       "         [[0.3216, 0.3137, 0.3176,  ..., 0.5373, 0.5373, 0.5373],\n",
       "          [0.3255, 0.3294, 0.3333,  ..., 0.5255, 0.5255, 0.5255],\n",
       "          [0.3294, 0.3294, 0.3333,  ..., 0.5216, 0.5216, 0.5216],\n",
       "          ...,\n",
       "          [0.3922, 0.3961, 0.4078,  ..., 0.5137, 0.5137, 0.5137],\n",
       "          [0.3922, 0.3922, 0.4078,  ..., 0.5098, 0.5098, 0.5098],\n",
       "          [0.3922, 0.3922, 0.4039,  ..., 0.5098, 0.5098, 0.5059]],\n",
       "\n",
       "         [[0.3020, 0.2980, 0.3020,  ..., 0.5333, 0.5294, 0.5294],\n",
       "          [0.3059, 0.3098, 0.3059,  ..., 0.5137, 0.5137, 0.5137],\n",
       "          [0.3059, 0.3098, 0.3059,  ..., 0.5098, 0.5098, 0.5098],\n",
       "          ...,\n",
       "          [0.3882, 0.3922, 0.4078,  ..., 0.5059, 0.5020, 0.5059],\n",
       "          [0.3843, 0.3882, 0.3961,  ..., 0.5176, 0.5176, 0.5176],\n",
       "          [0.3843, 0.3882, 0.3922,  ..., 0.5176, 0.5176, 0.5137]]]],\n",
       "       device='cuda:0')"
      ]
     },
     "execution_count": 65,
     "metadata": {},
     "output_type": "execute_result"
    }
   ],
   "source": [
    "val_images[0]."
   ]
  },
  {
   "cell_type": "code",
   "execution_count": null,
   "metadata": {},
   "outputs": [],
   "source": []
  }
 ],
 "metadata": {
  "kernelspec": {
   "display_name": "Python 3",
   "language": "python",
   "name": "python3"
  },
  "language_info": {
   "codemirror_mode": {
    "name": "ipython",
    "version": 3
   },
   "file_extension": ".py",
   "mimetype": "text/x-python",
   "name": "python",
   "nbconvert_exporter": "python",
   "pygments_lexer": "ipython3",
   "version": "3.7.6"
  }
 },
 "nbformat": 4,
 "nbformat_minor": 2
}
