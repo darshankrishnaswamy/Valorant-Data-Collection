{
 "cells": [
  {
   "cell_type": "code",
   "execution_count": 1,
   "metadata": {},
   "outputs": [],
   "source": [
    "import cv2\n",
    "import random\n",
    "import math\n",
    "import numpy as np"
   ]
  },
  {
   "cell_type": "code",
   "execution_count": 2,
   "metadata": {},
   "outputs": [],
   "source": [
    "def add_character(im, x, y, size, char):\n",
    "    assert x-size/2 >= 0 and x+size/2 <= im[0].size and y-size/2 >= 0 and y+size/2 <= im[1].size\n",
    "    raze = cv2.imread(\"Characters/\" + char + \".png\")\n",
    "    raze = cv2.resize(raze, (size, size))\n",
    "    non_zero = raze > np.array([0, 0, 0])\n",
    "    new_im = im[x-size//2 : x+size//2, y-size//2 : y+size//2]\n",
    "    new_im[non_zero] = raze[non_zero]\n",
    "    im[x-size//2 : x+size//2, y-size//2 : y+size//2, :] = new_im\n",
    "    return im"
   ]
  },
  {
   "cell_type": "code",
   "execution_count": 3,
   "metadata": {},
   "outputs": [],
   "source": [
    "adds = np.array([\"Breach\", \"Brimstone\", \"Cypher\", \"Jett\", \"Omen\", \"Phoenix\", \"Raze\", \"Reyna\", \"Sage\", \"Sova\", \"Viper\"])"
   ]
  },
  {
   "cell_type": "code",
   "execution_count": 4,
   "metadata": {},
   "outputs": [
    {
     "name": "stdout",
     "output_type": "stream",
     "text": [
      "(100, 100, 3)\n"
     ]
    }
   ],
   "source": [
    "raze = cv2.imread(\"Characters/\" + \"Raze\" + \".png\")[:, :, ::-1]\n",
    "raze = cv2.resize(raze, (100, 100))\n",
    "print(raze.shape)\n",
    "non_zero = raze > np.array([0, 0, 0])"
   ]
  },
  {
   "cell_type": "code",
   "execution_count": 5,
   "metadata": {},
   "outputs": [],
   "source": [
    "def add_rands(im):\n",
    "    num = random.randint(1, 5)\n",
    "    l = random.sample(range(0, 10), num)\n",
    "    chars = adds[l]\n",
    "    im = cv2.imread(\"Maps/\" + im + \".png\")\n",
    "    boxes = []\n",
    "    for char in chars:\n",
    "        x = np.random.randint(100, 900)\n",
    "        y = np.random.randint(100, 900)\n",
    "        size = np.random.randint(20, 30)*2\n",
    "        add_character(im, x, y, size, char)\n",
    "        box = [[x-size//2, y-size//2], [x+size//2, y+size//2]]\n",
    "        boxes.append(box)\n",
    "    boxes = np.array(boxes)\n",
    "    return im, boxes, chars"
   ]
  },
  {
   "cell_type": "code",
   "execution_count": 6,
   "metadata": {},
   "outputs": [],
   "source": [
    "images_all = []\n",
    "boxes_all = []\n",
    "labels_all = []"
   ]
  },
  {
   "cell_type": "code",
   "execution_count": 7,
   "metadata": {},
   "outputs": [],
   "source": [
    "for i in range(250):\n",
    "    im, boxes, labels = add_rands(\"Haven\")\n",
    "    images_all.append(im)\n",
    "    boxes_all.append(boxes)\n",
    "    labels_all.append(labels)"
   ]
  },
  {
   "cell_type": "code",
   "execution_count": 8,
   "metadata": {},
   "outputs": [],
   "source": [
    "for i in range(250, 500):\n",
    "    im, boxes, labels = add_rands(\"Bind\")\n",
    "    images_all.append(im)\n",
    "    boxes_all.append(boxes)\n",
    "    labels_all.append(labels)"
   ]
  },
  {
   "cell_type": "code",
   "execution_count": 9,
   "metadata": {},
   "outputs": [],
   "source": [
    "for i in range(500, 750):\n",
    "    im, boxes, labels = add_rands(\"Split\")\n",
    "    images_all.append(im)\n",
    "    boxes_all.append(boxes)\n",
    "    labels_all.append(labels)"
   ]
  },
  {
   "cell_type": "code",
   "execution_count": 10,
   "metadata": {},
   "outputs": [],
   "source": [
    "chars = {\"Breach\":0, \"Brimstone\":1, \"Cypher\":2, \"Jett\":3, \"Omen\":4, \"Phoenix\":5, \"Raze\":6, \"Reyna\":7, \"Sage\":8, \"Sova\":9, \"Viper\":10}\n",
    "for i in range(len(labels_all)):\n",
    "    for j in range(len(labels_all[i])):\n",
    "        labels_all[i][j] = chars[labels_all[i][j]]"
   ]
  },
  {
   "cell_type": "code",
   "execution_count": null,
   "metadata": {},
   "outputs": [],
   "source": [
    "np.save(\"data/train/images\", np.array(images_all)/255)\n",
    "np.save(\"data/train/boxes\", np.array(boxes_all), allow_pickle=True)\n",
    "np.save(\"data/train/labels\", np.array(labels_all), allow_pickle=True)"
   ]
  },
  {
   "cell_type": "code",
   "execution_count": null,
   "metadata": {},
   "outputs": [],
   "source": []
  },
  {
   "cell_type": "code",
   "execution_count": null,
   "metadata": {},
   "outputs": [],
   "source": [
    "labels_all"
   ]
  },
  {
   "cell_type": "code",
   "execution_count": null,
   "metadata": {},
   "outputs": [],
   "source": [
    "labels[0]"
   ]
  },
  {
   "cell_type": "code",
   "execution_count": null,
   "metadata": {},
   "outputs": [],
   "source": [
    "import matplotlib.pyplot as plt"
   ]
  },
  {
   "cell_type": "code",
   "execution_count": null,
   "metadata": {},
   "outputs": [],
   "source": [
    "plt.imshow(images_all[0])"
   ]
  },
  {
   "cell_type": "code",
   "execution_count": 18,
   "metadata": {},
   "outputs": [
    {
     "data": {
      "text/plain": [
       "(750, 1000, 1000, 3)"
      ]
     },
     "execution_count": 18,
     "metadata": {},
     "output_type": "execute_result"
    }
   ],
   "source": [
    "np.array(images_all).shape"
   ]
  },
  {
   "cell_type": "code",
   "execution_count": 19,
   "metadata": {},
   "outputs": [
    {
     "data": {
      "text/plain": [
       "array([[[ 50,  84,  79],\n",
       "        [ 49,  84,  78],\n",
       "        [ 47,  82,  76],\n",
       "        ...,\n",
       "        [ 77, 137, 136],\n",
       "        [ 78, 138, 136],\n",
       "        [ 79, 138, 136]],\n",
       "\n",
       "       [[ 50,  84,  78],\n",
       "        [ 48,  83,  78],\n",
       "        [ 46,  81,  76],\n",
       "        ...,\n",
       "        [ 77, 137, 136],\n",
       "        [ 77, 137, 136],\n",
       "        [ 78, 137, 135]],\n",
       "\n",
       "       [[ 49,  83,  78],\n",
       "        [ 48,  83,  77],\n",
       "        [ 47,  82,  77],\n",
       "        ...,\n",
       "        [ 77, 137, 135],\n",
       "        [ 77, 137, 135],\n",
       "        [ 77, 137, 135]],\n",
       "\n",
       "       ...,\n",
       "\n",
       "       [[ 62, 100,  98],\n",
       "        [ 62, 100,  98],\n",
       "        [ 61,  99,  98],\n",
       "        ...,\n",
       "        [ 77, 129, 131],\n",
       "        [ 77, 129, 131],\n",
       "        [ 77, 130, 132]],\n",
       "\n",
       "       [[ 62,  99,  98],\n",
       "        [ 62, 100,  98],\n",
       "        [ 61, 100,  98],\n",
       "        ...,\n",
       "        [ 77, 130, 132],\n",
       "        [ 77, 130, 132],\n",
       "        [ 77, 130, 132]],\n",
       "\n",
       "       [[ 61,  99,  98],\n",
       "        [ 62,  99,  98],\n",
       "        [ 61, 100,  98],\n",
       "        ...,\n",
       "        [ 77, 130, 132],\n",
       "        [ 77, 130, 132],\n",
       "        [ 77, 131, 132]]], dtype=uint8)"
      ]
     },
     "execution_count": 19,
     "metadata": {},
     "output_type": "execute_result"
    }
   ],
   "source": [
    "images"
   ]
  },
  {
   "cell_type": "code",
   "execution_count": null,
   "metadata": {},
   "outputs": [],
   "source": []
  }
 ],
 "metadata": {
  "kernelspec": {
   "display_name": "Python 3",
   "language": "python",
   "name": "python3"
  },
  "language_info": {
   "codemirror_mode": {
    "name": "ipython",
    "version": 3
   },
   "file_extension": ".py",
   "mimetype": "text/x-python",
   "name": "python",
   "nbconvert_exporter": "python",
   "pygments_lexer": "ipython3",
   "version": "3.7.4"
  }
 },
 "nbformat": 4,
 "nbformat_minor": 2
}
